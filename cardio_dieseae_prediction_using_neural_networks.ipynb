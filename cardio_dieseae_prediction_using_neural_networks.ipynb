{
 "cells": [
  {
   "cell_type": "code",
   "execution_count": 1,
   "metadata": {},
   "outputs": [],
   "source": [
    "import pandas as pd\n",
    "import tensorflow as tf\n",
    "from tensorflow.keras import regularizers\n",
    "from sklearn.model_selection import train_test_split\n",
    "import matplotlib.pyplot as plt\n",
    "import seaborn as sns\n",
    "import numpy as np\n",
    "from tensorflow.keras.models import Sequential\n",
    "from tensorflow.keras.layers import Dense, Dropout, LeakyReLU, ReLU\n",
    "from tensorflow.keras.callbacks import EarlyStopping\n",
    "from sklearn.metrics import accuracy_score, precision_score, f1_score, recall_score, confusion_matrix\n",
    "from tensorflow.keras.optimizers import Adam, RMSprop\n",
    "import keras_tuner as kt"
   ]
  },
  {
   "cell_type": "markdown",
   "metadata": {},
   "source": [
    "## Loading the Dataset"
   ]
  },
  {
   "cell_type": "code",
   "execution_count": 2,
   "metadata": {},
   "outputs": [
    {
     "data": {
      "text/html": [
       "<div>\n",
       "<style scoped>\n",
       "    .dataframe tbody tr th:only-of-type {\n",
       "        vertical-align: middle;\n",
       "    }\n",
       "\n",
       "    .dataframe tbody tr th {\n",
       "        vertical-align: top;\n",
       "    }\n",
       "\n",
       "    .dataframe thead th {\n",
       "        text-align: right;\n",
       "    }\n",
       "</style>\n",
       "<table border=\"1\" class=\"dataframe\">\n",
       "  <thead>\n",
       "    <tr style=\"text-align: right;\">\n",
       "      <th></th>\n",
       "      <th>age</th>\n",
       "      <th>gender</th>\n",
       "      <th>height</th>\n",
       "      <th>weight</th>\n",
       "      <th>ap_hi</th>\n",
       "      <th>ap_lo</th>\n",
       "      <th>cholesterol</th>\n",
       "      <th>gluc</th>\n",
       "      <th>smoke</th>\n",
       "      <th>active</th>\n",
       "      <th>cardio</th>\n",
       "    </tr>\n",
       "  </thead>\n",
       "  <tbody>\n",
       "    <tr>\n",
       "      <th>0</th>\n",
       "      <td>-0.433834</td>\n",
       "      <td>2</td>\n",
       "      <td>0.443711</td>\n",
       "      <td>-0.845741</td>\n",
       "      <td>-0.921194</td>\n",
       "      <td>-0.134931</td>\n",
       "      <td>1</td>\n",
       "      <td>1</td>\n",
       "      <td>0</td>\n",
       "      <td>1</td>\n",
       "      <td>0</td>\n",
       "    </tr>\n",
       "    <tr>\n",
       "      <th>1</th>\n",
       "      <td>0.309613</td>\n",
       "      <td>1</td>\n",
       "      <td>-1.018961</td>\n",
       "      <td>0.759448</td>\n",
       "      <td>0.771644</td>\n",
       "      <td>0.877460</td>\n",
       "      <td>3</td>\n",
       "      <td>1</td>\n",
       "      <td>0</td>\n",
       "      <td>1</td>\n",
       "      <td>1</td>\n",
       "    </tr>\n",
       "    <tr>\n",
       "      <th>2</th>\n",
       "      <td>-0.245845</td>\n",
       "      <td>1</td>\n",
       "      <td>0.078043</td>\n",
       "      <td>-0.706160</td>\n",
       "      <td>0.207365</td>\n",
       "      <td>-1.147322</td>\n",
       "      <td>3</td>\n",
       "      <td>1</td>\n",
       "      <td>0</td>\n",
       "      <td>0</td>\n",
       "      <td>1</td>\n",
       "    </tr>\n",
       "    <tr>\n",
       "      <th>3</th>\n",
       "      <td>-0.745799</td>\n",
       "      <td>2</td>\n",
       "      <td>0.565600</td>\n",
       "      <td>0.550076</td>\n",
       "      <td>1.335923</td>\n",
       "      <td>1.889851</td>\n",
       "      <td>1</td>\n",
       "      <td>1</td>\n",
       "      <td>0</td>\n",
       "      <td>1</td>\n",
       "      <td>1</td>\n",
       "    </tr>\n",
       "    <tr>\n",
       "      <th>4</th>\n",
       "      <td>-0.806166</td>\n",
       "      <td>1</td>\n",
       "      <td>-1.018961</td>\n",
       "      <td>-1.264486</td>\n",
       "      <td>-1.485474</td>\n",
       "      <td>-2.159713</td>\n",
       "      <td>1</td>\n",
       "      <td>1</td>\n",
       "      <td>0</td>\n",
       "      <td>0</td>\n",
       "      <td>0</td>\n",
       "    </tr>\n",
       "    <tr>\n",
       "      <th>5</th>\n",
       "      <td>0.992694</td>\n",
       "      <td>1</td>\n",
       "      <td>-1.628408</td>\n",
       "      <td>-0.496787</td>\n",
       "      <td>-0.356915</td>\n",
       "      <td>-0.134931</td>\n",
       "      <td>2</td>\n",
       "      <td>2</td>\n",
       "      <td>0</td>\n",
       "      <td>0</td>\n",
       "      <td>0</td>\n",
       "    </tr>\n",
       "    <tr>\n",
       "      <th>6</th>\n",
       "      <td>1.073318</td>\n",
       "      <td>1</td>\n",
       "      <td>-0.897072</td>\n",
       "      <td>1.317775</td>\n",
       "      <td>0.207365</td>\n",
       "      <td>-0.134931</td>\n",
       "      <td>3</td>\n",
       "      <td>1</td>\n",
       "      <td>0</td>\n",
       "      <td>1</td>\n",
       "      <td>0</td>\n",
       "    </tr>\n",
       "    <tr>\n",
       "      <th>7</th>\n",
       "      <td>1.264143</td>\n",
       "      <td>2</td>\n",
       "      <td>1.662604</td>\n",
       "      <td>1.457357</td>\n",
       "      <td>0.207365</td>\n",
       "      <td>0.877460</td>\n",
       "      <td>3</td>\n",
       "      <td>3</td>\n",
       "      <td>0</td>\n",
       "      <td>1</td>\n",
       "      <td>1</td>\n",
       "    </tr>\n",
       "    <tr>\n",
       "      <th>8</th>\n",
       "      <td>-0.727567</td>\n",
       "      <td>1</td>\n",
       "      <td>-0.775183</td>\n",
       "      <td>-0.217624</td>\n",
       "      <td>-0.921194</td>\n",
       "      <td>-1.147322</td>\n",
       "      <td>1</td>\n",
       "      <td>1</td>\n",
       "      <td>0</td>\n",
       "      <td>1</td>\n",
       "      <td>0</td>\n",
       "    </tr>\n",
       "    <tr>\n",
       "      <th>9</th>\n",
       "      <td>0.149985</td>\n",
       "      <td>1</td>\n",
       "      <td>-0.043847</td>\n",
       "      <td>-0.426996</td>\n",
       "      <td>-0.921194</td>\n",
       "      <td>-2.159713</td>\n",
       "      <td>1</td>\n",
       "      <td>1</td>\n",
       "      <td>0</td>\n",
       "      <td>0</td>\n",
       "      <td>0</td>\n",
       "    </tr>\n",
       "  </tbody>\n",
       "</table>\n",
       "</div>"
      ],
      "text/plain": [
       "        age  gender    height    weight     ap_hi     ap_lo  cholesterol  \\\n",
       "0 -0.433834       2  0.443711 -0.845741 -0.921194 -0.134931            1   \n",
       "1  0.309613       1 -1.018961  0.759448  0.771644  0.877460            3   \n",
       "2 -0.245845       1  0.078043 -0.706160  0.207365 -1.147322            3   \n",
       "3 -0.745799       2  0.565600  0.550076  1.335923  1.889851            1   \n",
       "4 -0.806166       1 -1.018961 -1.264486 -1.485474 -2.159713            1   \n",
       "5  0.992694       1 -1.628408 -0.496787 -0.356915 -0.134931            2   \n",
       "6  1.073318       1 -0.897072  1.317775  0.207365 -0.134931            3   \n",
       "7  1.264143       2  1.662604  1.457357  0.207365  0.877460            3   \n",
       "8 -0.727567       1 -0.775183 -0.217624 -0.921194 -1.147322            1   \n",
       "9  0.149985       1 -0.043847 -0.426996 -0.921194 -2.159713            1   \n",
       "\n",
       "   gluc  smoke  active  cardio  \n",
       "0     1      0       1       0  \n",
       "1     1      0       1       1  \n",
       "2     1      0       0       1  \n",
       "3     1      0       1       1  \n",
       "4     1      0       0       0  \n",
       "5     2      0       0       0  \n",
       "6     1      0       1       0  \n",
       "7     3      0       1       1  \n",
       "8     1      0       1       0  \n",
       "9     1      0       0       0  "
      ]
     },
     "execution_count": 2,
     "metadata": {},
     "output_type": "execute_result"
    }
   ],
   "source": [
    "#looking at the preprocessed data\n",
    "df = pd.read_csv(\"cleaned_dataset.csv\")\n",
    "df.head(10)"
   ]
  },
  {
   "cell_type": "markdown",
   "metadata": {},
   "source": [
    "## Splitting the dataset into trainning and test"
   ]
  },
  {
   "cell_type": "code",
   "execution_count": 3,
   "metadata": {},
   "outputs": [],
   "source": [
    "X = df.drop([\"cardio\"],axis=1)\n",
    "y = df[\"cardio\"].astype(int)\n",
    "X_train, X_test, y_train, y_test = train_test_split(X,y,test_size=0.3)"
   ]
  },
  {
   "cell_type": "code",
   "execution_count": 4,
   "metadata": {},
   "outputs": [
    {
     "data": {
      "image/png": "[encoded data removed]",
      "text/plain": [
       "<Figure size 1000x500 with 2 Axes>"
      ]
     },
     "metadata": {},
     "output_type": "display_data"
    }
   ],
   "source": [
    "#looking at the counts for training and test dataset\n",
    "fig, ax = plt.subplots(1,2,figsize = (10,5))\n",
    "sns.countplot(data=df, x = y_train, ax = ax[0])\n",
    "ax[0].set_title(\"Train Set\")\n",
    "sns.countplot(data=df, x = y_test, ax = ax[1])\n",
    "ax[1].set_title(\"Test Set\")\n",
    "plt.tight_layout()"
   ]
  },
  {
   "cell_type": "markdown",
   "metadata": {},
   "source": [
    "## Choosing the best neural network architecture"
   ]
  },
  {
   "cell_type": "markdown",
   "metadata": {},
   "source": [
    "First, let us find the neural network architecture for training."
   ]
  },
  {
   "cell_type": "markdown",
   "metadata": {},
   "source": [
    "### Network with one hidden layer"
   ]
  },
  {
   "cell_type": "code",
   "execution_count": 5,
   "metadata": {},
   "outputs": [],
   "source": [
    "def build_model(hp):\n",
    "    model = Sequential()\n",
    "    \n",
    "    # Input Layer with fixed unit choices\n",
    "    model.add(Dense(hp.Choice('units', [128, 256, 512, 1024])))\n",
    "\n",
    "    # Activation function selection\n",
    "    activation_choice = hp.Choice('activation', ['relu', 'leaky_relu'])\n",
    "    if activation_choice == 'relu':\n",
    "        model.add(ReLU())\n",
    "    else:\n",
    "        model.add(LeakyReLU(negative_slope=0.01))  # Default Leaky ReLU alpha=0.01\n",
    "\n",
    "    # Dropout Layer with tunable choice\n",
    "    model.add(Dropout(hp.Choice('dropout', values=[0.1, 0.3])))  \n",
    "\n",
    "    # Output layer (Binary classification)\n",
    "    model.add(Dense(1, activation='sigmoid'))\n",
    "\n",
    "    # Optimizer selection\n",
    "    optimizer_choice = hp.Choice('optimizer', ['adam', 'rmsprop'])\n",
    "    learning_rate = hp.Choice('learning_rate', values=[0.001, 0.0005])  # Added another value for tuning\n",
    "\n",
    "    if optimizer_choice == 'adam':\n",
    "        optimizer = Adam(learning_rate=learning_rate)\n",
    "    else:\n",
    "        optimizer = RMSprop(learning_rate=learning_rate)\n",
    "\n",
    "    # Compile the model\n",
    "    model.compile(\n",
    "        optimizer=optimizer,\n",
    "        loss='binary_crossentropy',\n",
    "        metrics=[tf.keras.metrics.Recall()]\n",
    "    )\n",
    "    return model"
   ]
  },
  {
   "cell_type": "code",
   "execution_count": 6,
   "metadata": {},
   "outputs": [],
   "source": [
    "# Initialize Keras Tuner with Hyperband, lowering max_epochs to 20 and factor to 3\n",
    "tuner = kt.Hyperband(\n",
    "    build_model,\n",
    "    objective='val_recall',  # Optimize for recall\n",
    "    max_epochs=15,           # Reduced maximum epochs\n",
    "    factor=4,\n",
    "    directory='One hidden layer',\n",
    "    project_name='disease_classification_fast')"
   ]
  },
  {
   "cell_type": "code",
   "execution_count": 7,
   "metadata": {},
   "outputs": [
    {
     "name": "stdout",
     "output_type": "stream",
     "text": [
      "Trial 11 Complete [00h 00m 33s]\n",
      "val_recall: 0.7161632180213928\n",
      "\n",
      "Best val_recall So Far: 0.7544134855270386\n",
      "Total elapsed time: 00h 03m 51s\n"
     ]
    }
   ],
   "source": [
    "# # Define Early Stopping callback\n",
    "# early_stopping = EarlyStopping(\n",
    "#     monitor='val_recall',  # Stop training if recall doesn't improve\n",
    "#     patience=4,            # Wait for 4 epochs before stopping\n",
    "#     restore_best_weights=True  # Restore best model\n",
    "# )\n",
    "\n",
    "# Perform hyperparameter search\n",
    "tuner.search(\n",
    "    X_train, y_train, \n",
    "    epochs=15,  \n",
    "    validation_data=(X_test, y_test),\n",
    "    batch_size=64,\n",
    "    #callbacks=[early_stopping],  # Use Early Stopping\n",
    "    verbose=1\n",
    ")"
   ]
  },
  {
   "cell_type": "code",
   "execution_count": 8,
   "metadata": {},
   "outputs": [
    {
     "name": "stdout",
     "output_type": "stream",
     "text": [
      "\n",
      "Best number of units in the first layer: 1024\n",
      "Best activation function: leaky_relu\n",
      "Best dropout rate: 0.3\n",
      "Best optimizer: rmsprop\n",
      "Best learning rate: 0.001\n",
      "\n"
     ]
    }
   ],
   "source": [
    "# Retrieve the best hyperparameters\n",
    "best_hps = tuner.get_best_hyperparameters(num_trials=1)[0]\n",
    "\n",
    "print(f\"\"\"\n",
    "Best number of units in the first layer: {best_hps.get('units')}\n",
    "Best activation function: {best_hps.get('activation')}\n",
    "Best dropout rate: {best_hps.get('dropout')}\n",
    "Best optimizer: {best_hps.get('optimizer')}\n",
    "Best learning rate: {best_hps.get('learning_rate')}\n",
    "\"\"\")"
   ]
  },
  {
   "cell_type": "code",
   "execution_count": 9,
   "metadata": {},
   "outputs": [
    {
     "name": "stdout",
     "output_type": "stream",
     "text": [
      "Epoch 1/20\n",
      "\u001b[1m1510/1510\u001b[0m \u001b[32m━━━━━━━━━━━━━━━━━━━━\u001b[0m\u001b[37m\u001b[0m \u001b[1m6s\u001b[0m 3ms/step - loss: 0.5625 - recall_2: 0.6978 - val_loss: 0.5612 - val_recall_2: 0.7348\n",
      "Epoch 2/20\n",
      "\u001b[1m1510/1510\u001b[0m \u001b[32m━━━━━━━━━━━━━━━━━━━━\u001b[0m\u001b[37m\u001b[0m \u001b[1m5s\u001b[0m 3ms/step - loss: 0.5544 - recall_2: 0.6941 - val_loss: 0.5533 - val_recall_2: 0.6969\n",
      "Epoch 3/20\n",
      "\u001b[1m1510/1510\u001b[0m \u001b[32m━━━━━━━━━━━━━━━━━━━━\u001b[0m\u001b[37m\u001b[0m \u001b[1m5s\u001b[0m 3ms/step - loss: 0.5504 - recall_2: 0.6978 - val_loss: 0.5511 - val_recall_2: 0.7138\n",
      "Epoch 4/20\n",
      "\u001b[1m1510/1510\u001b[0m \u001b[32m━━━━━━━━━━━━━━━━━━━━\u001b[0m\u001b[37m\u001b[0m \u001b[1m5s\u001b[0m 3ms/step - loss: 0.5461 - recall_2: 0.6967 - val_loss: 0.5513 - val_recall_2: 0.7314\n",
      "Epoch 5/20\n",
      "\u001b[1m1510/1510\u001b[0m \u001b[32m━━━━━━━━━━━━━━━━━━━━\u001b[0m\u001b[37m\u001b[0m \u001b[1m4s\u001b[0m 3ms/step - loss: 0.5494 - recall_2: 0.6997 - val_loss: 0.5503 - val_recall_2: 0.6811\n",
      "Epoch 6/20\n",
      "\u001b[1m1510/1510\u001b[0m \u001b[32m━━━━━━━━━━━━━━━━━━━━\u001b[0m\u001b[37m\u001b[0m \u001b[1m4s\u001b[0m 2ms/step - loss: 0.5494 - recall_2: 0.6953 - val_loss: 0.5502 - val_recall_2: 0.6717\n",
      "Epoch 7/20\n",
      "\u001b[1m1510/1510\u001b[0m \u001b[32m━━━━━━━━━━━━━━━━━━━━\u001b[0m\u001b[37m\u001b[0m \u001b[1m4s\u001b[0m 2ms/step - loss: 0.5484 - recall_2: 0.6924 - val_loss: 0.5566 - val_recall_2: 0.6301\n",
      "Epoch 8/20\n",
      "\u001b[1m1510/1510\u001b[0m \u001b[32m━━━━━━━━━━━━━━━━━━━━\u001b[0m\u001b[37m\u001b[0m \u001b[1m5s\u001b[0m 3ms/step - loss: 0.5533 - recall_2: 0.6912 - val_loss: 0.5498 - val_recall_2: 0.6869\n",
      "Epoch 9/20\n",
      "\u001b[1m1510/1510\u001b[0m \u001b[32m━━━━━━━━━━━━━━━━━━━━\u001b[0m\u001b[37m\u001b[0m \u001b[1m4s\u001b[0m 2ms/step - loss: 0.5441 - recall_2: 0.7054 - val_loss: 0.5524 - val_recall_2: 0.6658\n",
      "Epoch 10/20\n",
      "\u001b[1m1510/1510\u001b[0m \u001b[32m━━━━━━━━━━━━━━━━━━━━\u001b[0m\u001b[37m\u001b[0m \u001b[1m4s\u001b[0m 2ms/step - loss: 0.5465 - recall_2: 0.6944 - val_loss: 0.5512 - val_recall_2: 0.7019\n",
      "Epoch 11/20\n",
      "\u001b[1m1510/1510\u001b[0m \u001b[32m━━━━━━━━━━━━━━━━━━━━\u001b[0m\u001b[37m\u001b[0m \u001b[1m7s\u001b[0m 5ms/step - loss: 0.5454 - recall_2: 0.7006 - val_loss: 0.5494 - val_recall_2: 0.7243\n",
      "Epoch 12/20\n",
      "\u001b[1m1510/1510\u001b[0m \u001b[32m━━━━━━━━━━━━━━━━━━━━\u001b[0m\u001b[37m\u001b[0m \u001b[1m11s\u001b[0m 7ms/step - loss: 0.5498 - recall_2: 0.6933 - val_loss: 0.5515 - val_recall_2: 0.7077\n",
      "Epoch 13/20\n",
      "\u001b[1m1510/1510\u001b[0m \u001b[32m━━━━━━━━━━━━━━━━━━━━\u001b[0m\u001b[37m\u001b[0m \u001b[1m11s\u001b[0m 7ms/step - loss: 0.5487 - recall_2: 0.7003 - val_loss: 0.5500 - val_recall_2: 0.6944\n",
      "Epoch 14/20\n",
      "\u001b[1m1510/1510\u001b[0m \u001b[32m━━━━━━━━━━━━━━━━━━━━\u001b[0m\u001b[37m\u001b[0m \u001b[1m11s\u001b[0m 7ms/step - loss: 0.5489 - recall_2: 0.6974 - val_loss: 0.5498 - val_recall_2: 0.6904\n",
      "Epoch 15/20\n",
      "\u001b[1m1510/1510\u001b[0m \u001b[32m━━━━━━━━━━━━━━━━━━━━\u001b[0m\u001b[37m\u001b[0m \u001b[1m11s\u001b[0m 7ms/step - loss: 0.5499 - recall_2: 0.6975 - val_loss: 0.5483 - val_recall_2: 0.6921\n",
      "Epoch 16/20\n",
      "\u001b[1m1510/1510\u001b[0m \u001b[32m━━━━━━━━━━━━━━━━━━━━\u001b[0m\u001b[37m\u001b[0m \u001b[1m12s\u001b[0m 8ms/step - loss: 0.5466 - recall_2: 0.6957 - val_loss: 0.5509 - val_recall_2: 0.6761\n",
      "Epoch 17/20\n",
      "\u001b[1m1510/1510\u001b[0m \u001b[32m━━━━━━━━━━━━━━━━━━━━\u001b[0m\u001b[37m\u001b[0m \u001b[1m6s\u001b[0m 4ms/step - loss: 0.5483 - recall_2: 0.6992 - val_loss: 0.5500 - val_recall_2: 0.7152\n",
      "Epoch 18/20\n",
      "\u001b[1m1510/1510\u001b[0m \u001b[32m━━━━━━━━━━━━━━━━━━━━\u001b[0m\u001b[37m\u001b[0m \u001b[1m4s\u001b[0m 3ms/step - loss: 0.5483 - recall_2: 0.6987 - val_loss: 0.5524 - val_recall_2: 0.6897\n",
      "Epoch 19/20\n",
      "\u001b[1m1510/1510\u001b[0m \u001b[32m━━━━━━━━━━━━━━━━━━━━\u001b[0m\u001b[37m\u001b[0m \u001b[1m6s\u001b[0m 4ms/step - loss: 0.5485 - recall_2: 0.6959 - val_loss: 0.5498 - val_recall_2: 0.7005\n",
      "Epoch 20/20\n",
      "\u001b[1m1510/1510\u001b[0m \u001b[32m━━━━━━━━━━━━━━━━━━━━\u001b[0m\u001b[37m\u001b[0m \u001b[1m6s\u001b[0m 4ms/step - loss: 0.5453 - recall_2: 0.6972 - val_loss: 0.5545 - val_recall_2: 0.6558\n",
      "Test Recall: 0.6558\n"
     ]
    }
   ],
   "source": [
    "# Build and train the best model using the best batch size from hyperparameters with verbose off\n",
    "best_model = tuner.hypermodel.build(best_hps)\n",
    "history = best_model.fit(X_train, y_train, epochs=20, validation_data=(X_test, y_test), \n",
    "                         batch_size=32,\n",
    "                         verbose=1)\n",
    "\n",
    "# Evaluate on the test set with verbose off\n",
    "loss, recall = best_model.evaluate(X_test, y_test, verbose=0)\n",
    "print(f\"Test Recall: {recall:.4f}\")"
   ]
  },
  {
   "cell_type": "code",
   "execution_count": 10,
   "metadata": {},
   "outputs": [],
   "source": [
    "y_pred = best_model.predict(X_test,verbose=0)\n",
    "y_pred_classes = (y_pred>=0.5).astype(int)"
   ]
  },
  {
   "cell_type": "code",
   "execution_count": 11,
   "metadata": {},
   "outputs": [
    {
     "data": {
      "text/html": [
       "<div>\n",
       "<style scoped>\n",
       "    .dataframe tbody tr th:only-of-type {\n",
       "        vertical-align: middle;\n",
       "    }\n",
       "\n",
       "    .dataframe tbody tr th {\n",
       "        vertical-align: top;\n",
       "    }\n",
       "\n",
       "    .dataframe thead th {\n",
       "        text-align: right;\n",
       "    }\n",
       "</style>\n",
       "<table border=\"1\" class=\"dataframe\">\n",
       "  <thead>\n",
       "    <tr style=\"text-align: right;\">\n",
       "      <th></th>\n",
       "      <th>Predicted 0</th>\n",
       "      <th>Predicted 1</th>\n",
       "    </tr>\n",
       "  </thead>\n",
       "  <tbody>\n",
       "    <tr>\n",
       "      <th>Actual 0</th>\n",
       "      <td>8474</td>\n",
       "      <td>2030</td>\n",
       "    </tr>\n",
       "    <tr>\n",
       "      <th>Actual 1</th>\n",
       "      <td>3509</td>\n",
       "      <td>6687</td>\n",
       "    </tr>\n",
       "  </tbody>\n",
       "</table>\n",
       "</div>"
      ],
      "text/plain": [
       "          Predicted 0  Predicted 1\n",
       "Actual 0         8474         2030\n",
       "Actual 1         3509         6687"
      ]
     },
     "execution_count": 11,
     "metadata": {},
     "output_type": "execute_result"
    }
   ],
   "source": [
    "con_matrix = confusion_matrix(y_test, y_pred_classes)\n",
    "con_matrix = pd.DataFrame(data = con_matrix, columns= [\"Predicted 0\",\"Predicted 1\"], index= [\"Actual 0\", \"Actual 1\"])\n",
    "con_matrix"
   ]
  },
  {
   "cell_type": "code",
   "execution_count": 12,
   "metadata": {},
   "outputs": [
    {
     "name": "stdout",
     "output_type": "stream",
     "text": [
      "Accuracy: 73.24%\n",
      "Precision: 76.71%\n",
      "Recall: 65.58%\n",
      "F1_score: 70.71%\n"
     ]
    }
   ],
   "source": [
    "accuracy = accuracy_score(y_test, y_pred_classes) *100\n",
    "precision = precision_score(y_test, y_pred_classes) *100\n",
    "recall = recall_score(y_test, y_pred_classes) *100\n",
    "f1 = f1_score(y_test,y_pred_classes) *100\n",
    "\n",
    "print(f\"Accuracy: {accuracy:.2f}%\")\n",
    "print(f\"Precision: {precision:.2f}%\")\n",
    "print(f\"Recall: {recall:.2f}%\")\n",
    "print(f\"F1_score: {f1:.2f}%\")"
   ]
  },
  {
   "cell_type": "markdown",
   "metadata": {},
   "source": [
    "### Network with one hidden layer"
   ]
  },
  {
   "cell_type": "code",
   "execution_count": 13,
   "metadata": {},
   "outputs": [],
   "source": [
    "# Define model-building function for Keras Tuner with reduced search space\n",
    "def build_model(hp):\n",
    "    model = Sequential()\n",
    "    \n",
    "    model.add(Dense(hp.Choice('units_1', [128,256])))\n",
    "\n",
    "    # Activation function selection\n",
    "    activation_choice = hp.Choice('activation_1', ['relu', 'leaky_relu'])\n",
    "    if activation_choice == 'relu':\n",
    "        model.add(ReLU())\n",
    "    else:\n",
    "        model.add(LeakyReLU(negative_slope=0.01))  # Default Leaky ReLU alpha=0.01\n",
    "\n",
    "    # Dropout Layer with tunable choice\n",
    "    model.add(Dropout(hp.Choice('dropout_1', values=[0.1, 0.3])))  \n",
    "\n",
    "    model.add(Dense(hp.Choice('units_2', [64,128])))\n",
    "\n",
    "    # Activation function selection\n",
    "    activation_choice = hp.Choice('activation_2', ['relu', 'leaky_relu'])\n",
    "    if activation_choice == 'relu':\n",
    "        model.add(ReLU())\n",
    "    else:\n",
    "        model.add(LeakyReLU(negative_slope=0.01))  # Default Leaky ReLU alpha=0.01\n",
    "\n",
    "    # Dropout Layer with tunable choice\n",
    "    model.add(Dropout(hp.Choice('dropout_2', values=[0.1, 0.3])))\n",
    "\n",
    "    # Output layer (Binary classification)\n",
    "    model.add(Dense(1, activation='sigmoid'))\n",
    "\n",
    "    # Optimizer selection\n",
    "    optimizer_choice = hp.Choice('optimizer', ['adam', 'rmsprop'])\n",
    "    learning_rate = hp.Choice('learning_rate', values=[0.001, 0.0005])  # Added another value for tuning\n",
    "\n",
    "    if optimizer_choice == 'adam':\n",
    "        optimizer = Adam(learning_rate=learning_rate)\n",
    "    else:\n",
    "        optimizer = RMSprop(learning_rate=learning_rate)\n",
    "\n",
    "    # Compile the model\n",
    "    model.compile(\n",
    "        optimizer=optimizer,\n",
    "        loss='binary_crossentropy',\n",
    "        metrics=[tf.keras.metrics.Recall()]\n",
    "    )\n",
    "\n",
    "    return model"
   ]
  },
  {
   "cell_type": "code",
   "execution_count": 14,
   "metadata": {},
   "outputs": [],
   "source": [
    "# Initialize Keras Tuner with Hyperband, lowering max_epochs to 20 and factor to 3\n",
    "tuner = kt.Hyperband(\n",
    "    build_model,\n",
    "    objective='val_recall',  # Optimize for recall\n",
    "    max_epochs=15,           # Reduced maximum epochs\n",
    "    factor=4,\n",
    "    directory='Two hidden layer',\n",
    "    project_name='disease_classification_fast')"
   ]
  },
  {
   "cell_type": "code",
   "execution_count": 15,
   "metadata": {},
   "outputs": [
    {
     "name": "stdout",
     "output_type": "stream",
     "text": [
      "Trial 11 Complete [00h 02m 34s]\n",
      "val_recall: 0.7561789155006409\n",
      "\n",
      "Best val_recall So Far: 0.7561789155006409\n",
      "Total elapsed time: 00h 09m 28s\n"
     ]
    }
   ],
   "source": [
    "# # Define Early Stopping callback\n",
    "# early_stopping = EarlyStopping(\n",
    "#     monitor='val_recall',  # Stop training if recall doesn't improve\n",
    "#     patience=4,            # Wait for 4 epochs before stopping\n",
    "#     restore_best_weights=True  # Restore best model\n",
    "# )\n",
    "\n",
    "# Perform hyperparameter search using a fixed batch size (e.g., 32) during the search phase with verbose off\n",
    "tuner.search(X_train, y_train, \n",
    "             epochs=15,  # Reduced number of epochs\n",
    "             validation_data=(X_test, y_test),\n",
    "             batch_size=32,\n",
    "             #callbacks=[early_stopping],  # Use Early Stopping\n",
    "             verbose=1,\n",
    ")"
   ]
  },
  {
   "cell_type": "code",
   "execution_count": 16,
   "metadata": {},
   "outputs": [
    {
     "name": "stdout",
     "output_type": "stream",
     "text": [
      "\n",
      "Best Hyperparameters:\n",
      "- Layer 1 Units: 256\n",
      "- Layer 1 Activation: relu\n",
      "- Layer 2 Dropout: 0.3\n",
      "- Layer 2 Units: 128\n",
      "- Layer 2 Activation: leaky_relu\n",
      "- Layer 2 Dropout: 0.1\n",
      "- Optimizer: adam\n",
      "- Learning Rate: 0.001\n",
      "\n"
     ]
    }
   ],
   "source": [
    "# Retrieve the best hyperparameters\n",
    "best_hps = tuner.get_best_hyperparameters(num_trials=1)[0]\n",
    "\n",
    "print(f\"\"\"\n",
    "Best Hyperparameters:\n",
    "- Layer 1 Units: {best_hps.get('units_1')}\n",
    "- Layer 1 Activation: {best_hps.get('activation_1')}\n",
    "- Layer 2 Dropout: {best_hps.get('dropout_1')}\n",
    "- Layer 2 Units: {best_hps.get('units_2')}\n",
    "- Layer 2 Activation: {best_hps.get(f'activation_2')}\n",
    "- Layer 2 Dropout: {best_hps.get('dropout_2')}\n",
    "- Optimizer: {best_hps.get('optimizer')}\n",
    "- Learning Rate: {best_hps.get('learning_rate')}\n",
    "\"\"\")"
   ]
  },
  {
   "cell_type": "code",
   "execution_count": 17,
   "metadata": {},
   "outputs": [
    {
     "name": "stdout",
     "output_type": "stream",
     "text": [
      "Epoch 1/20\n",
      "\u001b[1m1510/1510\u001b[0m \u001b[32m━━━━━━━━━━━━━━━━━━━━\u001b[0m\u001b[37m\u001b[0m \u001b[1m14s\u001b[0m 7ms/step - loss: 0.5679 - recall_2: 0.6955 - val_loss: 0.5510 - val_recall_2: 0.6760\n",
      "Epoch 2/20\n",
      "\u001b[1m1510/1510\u001b[0m \u001b[32m━━━━━━━━━━━━━━━━━━━━\u001b[0m\u001b[37m\u001b[0m \u001b[1m10s\u001b[0m 6ms/step - loss: 0.5516 - recall_2: 0.6914 - val_loss: 0.5488 - val_recall_2: 0.7031\n",
      "Epoch 3/20\n",
      "\u001b[1m1510/1510\u001b[0m \u001b[32m━━━━━━━━━━━━━━━━━━━━\u001b[0m\u001b[37m\u001b[0m \u001b[1m10s\u001b[0m 7ms/step - loss: 0.5457 - recall_2: 0.7078 - val_loss: 0.5471 - val_recall_2: 0.6664\n",
      "Epoch 4/20\n",
      "\u001b[1m1510/1510\u001b[0m \u001b[32m━━━━━━━━━━━━━━━━━━━━\u001b[0m\u001b[37m\u001b[0m \u001b[1m10s\u001b[0m 7ms/step - loss: 0.5502 - recall_2: 0.6999 - val_loss: 0.5462 - val_recall_2: 0.6663\n",
      "Epoch 5/20\n",
      "\u001b[1m1510/1510\u001b[0m \u001b[32m━━━━━━━━━━━━━━━━━━━━\u001b[0m\u001b[37m\u001b[0m \u001b[1m10s\u001b[0m 7ms/step - loss: 0.5463 - recall_2: 0.6868 - val_loss: 0.5468 - val_recall_2: 0.7299\n",
      "Epoch 6/20\n",
      "\u001b[1m1510/1510\u001b[0m \u001b[32m━━━━━━━━━━━━━━━━━━━━\u001b[0m\u001b[37m\u001b[0m \u001b[1m11s\u001b[0m 7ms/step - loss: 0.5459 - recall_2: 0.7010 - val_loss: 0.5477 - val_recall_2: 0.7298\n",
      "Epoch 7/20\n",
      "\u001b[1m1510/1510\u001b[0m \u001b[32m━━━━━━━━━━━━━━━━━━━━\u001b[0m\u001b[37m\u001b[0m \u001b[1m10s\u001b[0m 7ms/step - loss: 0.5463 - recall_2: 0.6942 - val_loss: 0.5465 - val_recall_2: 0.7016\n",
      "Epoch 8/20\n",
      "\u001b[1m1510/1510\u001b[0m \u001b[32m━━━━━━━━━━━━━━━━━━━━\u001b[0m\u001b[37m\u001b[0m \u001b[1m12s\u001b[0m 8ms/step - loss: 0.5457 - recall_2: 0.6937 - val_loss: 0.5446 - val_recall_2: 0.6943\n",
      "Epoch 9/20\n",
      "\u001b[1m1510/1510\u001b[0m \u001b[32m━━━━━━━━━━━━━━━━━━━━\u001b[0m\u001b[37m\u001b[0m \u001b[1m5s\u001b[0m 4ms/step - loss: 0.5478 - recall_2: 0.6896 - val_loss: 0.5459 - val_recall_2: 0.7193\n",
      "Epoch 10/20\n",
      "\u001b[1m1510/1510\u001b[0m \u001b[32m━━━━━━━━━━━━━━━━━━━━\u001b[0m\u001b[37m\u001b[0m \u001b[1m4s\u001b[0m 2ms/step - loss: 0.5447 - recall_2: 0.6965 - val_loss: 0.5459 - val_recall_2: 0.6999\n",
      "Epoch 11/20\n",
      "\u001b[1m1510/1510\u001b[0m \u001b[32m━━━━━━━━━━━━━━━━━━━━\u001b[0m\u001b[37m\u001b[0m \u001b[1m3s\u001b[0m 2ms/step - loss: 0.5406 - recall_2: 0.7001 - val_loss: 0.5450 - val_recall_2: 0.7032\n",
      "Epoch 12/20\n",
      "\u001b[1m1510/1510\u001b[0m \u001b[32m━━━━━━━━━━━━━━━━━━━━\u001b[0m\u001b[37m\u001b[0m \u001b[1m4s\u001b[0m 3ms/step - loss: 0.5438 - recall_2: 0.6918 - val_loss: 0.5455 - val_recall_2: 0.7206\n",
      "Epoch 13/20\n",
      "\u001b[1m1510/1510\u001b[0m \u001b[32m━━━━━━━━━━━━━━━━━━━━\u001b[0m\u001b[37m\u001b[0m \u001b[1m4s\u001b[0m 3ms/step - loss: 0.5427 - recall_2: 0.6949 - val_loss: 0.5446 - val_recall_2: 0.7113\n",
      "Epoch 14/20\n",
      "\u001b[1m1510/1510\u001b[0m \u001b[32m━━━━━━━━━━━━━━━━━━━━\u001b[0m\u001b[37m\u001b[0m \u001b[1m4s\u001b[0m 3ms/step - loss: 0.5408 - recall_2: 0.7008 - val_loss: 0.5449 - val_recall_2: 0.7028\n",
      "Epoch 15/20\n",
      "\u001b[1m1510/1510\u001b[0m \u001b[32m━━━━━━━━━━━━━━━━━━━━\u001b[0m\u001b[37m\u001b[0m \u001b[1m4s\u001b[0m 3ms/step - loss: 0.5406 - recall_2: 0.7072 - val_loss: 0.5455 - val_recall_2: 0.7030\n",
      "Epoch 16/20\n",
      "\u001b[1m1510/1510\u001b[0m \u001b[32m━━━━━━━━━━━━━━━━━━━━\u001b[0m\u001b[37m\u001b[0m \u001b[1m3s\u001b[0m 2ms/step - loss: 0.5414 - recall_2: 0.7017 - val_loss: 0.5447 - val_recall_2: 0.7039\n",
      "Epoch 17/20\n",
      "\u001b[1m1510/1510\u001b[0m \u001b[32m━━━━━━━━━━━━━━━━━━━━\u001b[0m\u001b[37m\u001b[0m \u001b[1m4s\u001b[0m 3ms/step - loss: 0.5433 - recall_2: 0.6964 - val_loss: 0.5464 - val_recall_2: 0.7168\n",
      "Epoch 18/20\n",
      "\u001b[1m1510/1510\u001b[0m \u001b[32m━━━━━━━━━━━━━━━━━━━━\u001b[0m\u001b[37m\u001b[0m \u001b[1m4s\u001b[0m 3ms/step - loss: 0.5462 - recall_2: 0.6943 - val_loss: 0.5465 - val_recall_2: 0.6933\n",
      "Epoch 19/20\n",
      "\u001b[1m1510/1510\u001b[0m \u001b[32m━━━━━━━━━━━━━━━━━━━━\u001b[0m\u001b[37m\u001b[0m \u001b[1m4s\u001b[0m 3ms/step - loss: 0.5433 - recall_2: 0.6986 - val_loss: 0.5456 - val_recall_2: 0.6996\n",
      "Epoch 20/20\n",
      "\u001b[1m1510/1510\u001b[0m \u001b[32m━━━━━━━━━━━━━━━━━━━━\u001b[0m\u001b[37m\u001b[0m \u001b[1m4s\u001b[0m 3ms/step - loss: 0.5411 - recall_2: 0.6998 - val_loss: 0.5451 - val_recall_2: 0.6975\n",
      "Test Recall: 0.6975\n"
     ]
    }
   ],
   "source": [
    "# Build and train the best model using the best batch size from hyperparameters with verbose off\n",
    "best_model = tuner.hypermodel.build(best_hps)\n",
    "history = best_model.fit(X_train, y_train, epochs=20, validation_data=(X_test, y_test), \n",
    "                         batch_size=32,\n",
    "                         verbose=1)\n",
    "\n",
    "# Evaluate on the test set with verbose off\n",
    "loss, recall = best_model.evaluate(X_test, y_test, verbose=0)\n",
    "print(f\"Test Recall: {recall:.4f}\")"
   ]
  },
  {
   "cell_type": "code",
   "execution_count": 18,
   "metadata": {},
   "outputs": [],
   "source": [
    "y_pred = best_model.predict(X_test,verbose=0)\n",
    "y_pred_classes = (y_pred>=0.5).astype(int)"
   ]
  },
  {
   "cell_type": "code",
   "execution_count": 19,
   "metadata": {},
   "outputs": [
    {
     "data": {
      "text/html": [
       "<div>\n",
       "<style scoped>\n",
       "    .dataframe tbody tr th:only-of-type {\n",
       "        vertical-align: middle;\n",
       "    }\n",
       "\n",
       "    .dataframe tbody tr th {\n",
       "        vertical-align: top;\n",
       "    }\n",
       "\n",
       "    .dataframe thead th {\n",
       "        text-align: right;\n",
       "    }\n",
       "</style>\n",
       "<table border=\"1\" class=\"dataframe\">\n",
       "  <thead>\n",
       "    <tr style=\"text-align: right;\">\n",
       "      <th></th>\n",
       "      <th>Predicted 0</th>\n",
       "      <th>Predicted 1</th>\n",
       "    </tr>\n",
       "  </thead>\n",
       "  <tbody>\n",
       "    <tr>\n",
       "      <th>Actual 0</th>\n",
       "      <td>8077</td>\n",
       "      <td>2427</td>\n",
       "    </tr>\n",
       "    <tr>\n",
       "      <th>Actual 1</th>\n",
       "      <td>3084</td>\n",
       "      <td>7112</td>\n",
       "    </tr>\n",
       "  </tbody>\n",
       "</table>\n",
       "</div>"
      ],
      "text/plain": [
       "          Predicted 0  Predicted 1\n",
       "Actual 0         8077         2427\n",
       "Actual 1         3084         7112"
      ]
     },
     "execution_count": 19,
     "metadata": {},
     "output_type": "execute_result"
    }
   ],
   "source": [
    "con_matrix = confusion_matrix(y_test, y_pred_classes)\n",
    "con_matrix = pd.DataFrame(data = con_matrix, columns= [\"Predicted 0\",\"Predicted 1\"], index= [\"Actual 0\", \"Actual 1\"])\n",
    "con_matrix"
   ]
  },
  {
   "cell_type": "code",
   "execution_count": 20,
   "metadata": {},
   "outputs": [
    {
     "name": "stdout",
     "output_type": "stream",
     "text": [
      "Accuracy: 73.38%\n",
      "Precision: 74.56%\n",
      "Recall: 69.75%\n",
      "F1_score: 72.07%\n"
     ]
    }
   ],
   "source": [
    "accuracy = accuracy_score(y_test, y_pred_classes) *100\n",
    "precision = precision_score(y_test, y_pred_classes) *100\n",
    "recall = recall_score(y_test, y_pred_classes) *100\n",
    "f1 = f1_score(y_test,y_pred_classes) *100\n",
    "\n",
    "print(f\"Accuracy: {accuracy:.2f}%\")\n",
    "print(f\"Precision: {precision:.2f}%\")\n",
    "print(f\"Recall: {recall:.2f}%\")\n",
    "print(f\"F1_score: {f1:.2f}%\")"
   ]
  }
 ],
 "metadata": {
  "kernelspec": {
   "display_name": "tf_env",
   "language": "python",
   "name": "python3"
  },
  "language_info": {
   "codemirror_mode": {
    "name": "ipython",
    "version": 3
   },
   "file_extension": ".py",
   "mimetype": "text/x-python",
   "name": "python",
   "nbconvert_exporter": "python",
   "pygments_lexer": "ipython3",
   "version": "3.10.16"
  }
 },
 "nbformat": 4,
 "nbformat_minor": 2
}
